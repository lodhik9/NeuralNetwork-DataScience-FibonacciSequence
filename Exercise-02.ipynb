{
 "cells": [
  {
   "cell_type": "markdown",
   "metadata": {},
   "source": [
    "# Exercise-2"
   ]
  },
  {
   "cell_type": "markdown",
   "metadata": {},
   "source": [
    "## Problem 1:"
   ]
  },
  {
   "cell_type": "markdown",
   "metadata": {},
   "source": [
    "$F(x) =  x^2$  "
   ]
  },
  {
   "cell_type": "code",
   "execution_count": 75,
   "metadata": {},
   "outputs": [],
   "source": [
    "def f(x):\n",
    "   return x*x"
   ]
  },
  {
   "cell_type": "code",
   "execution_count": 76,
   "metadata": {},
   "outputs": [
    {
     "name": "stdout",
     "output_type": "stream",
     "text": [
      "[-7, 3, 13, 23, 33, 43]\n"
     ]
    }
   ],
   "source": [
    "n = 10\n",
    "d5 = [ 5 * x + 3 for x in range(-2,9,1) if x % 2 == 0 ] # range creates a list of numbers we are iterating through: 0, 1, 2, ... 9\n",
    "\n",
    "print(d5)"
   ]
  },
  {
   "cell_type": "code",
   "execution_count": 77,
   "metadata": {},
   "outputs": [
    {
     "name": "stdout",
     "output_type": "stream",
     "text": [
      "[9, 169, 529, 1089, 1849]\n"
     ]
    }
   ],
   "source": [
    "newList = [f(item) for item in d5 if item >= 0]\n",
    "\n",
    "print(newList)"
   ]
  },
  {
   "cell_type": "code",
   "execution_count": 78,
   "metadata": {},
   "outputs": [
    {
     "data": {
      "image/png": "[encoded data removed]",
      "text/plain": [
       "<Figure size 432x288 with 1 Axes>"
      ]
     },
     "metadata": {
      "needs_background": "light"
     },
     "output_type": "display_data"
    }
   ],
   "source": [
    "import matplotlib.pyplot as plt\n",
    "%matplotlib inline\n",
    "import numpy as np\n",
    "\n",
    "# 100 linearly spaced numbers\n",
    "x = np.linspace(-5,5,100)\n",
    "\n",
    "# the function, which is y = x^2 here\n",
    "y = x**2\n",
    "\n",
    "# setting the axes at the centre\n",
    "fig = plt.figure()\n",
    "ax = fig.add_subplot(1, 1, 1)\n",
    "ax.spines['left'].set_position('center')\n",
    "ax.spines['bottom'].set_position('zero')\n",
    "ax.spines['right'].set_color('none')\n",
    "ax.spines['top'].set_color('none')\n",
    "ax.xaxis.set_ticks_position('bottom')\n",
    "ax.yaxis.set_ticks_position('left')\n",
    "plt.plot(x, y, color='blue', linewidth=5)\n",
    "plt.xlabel('x')\n",
    "plt.ylabel('y')\n",
    "plt.show()"
   ]
  },
  {
   "cell_type": "code",
   "execution_count": 79,
   "metadata": {},
   "outputs": [],
   "source": [
    "fig.savefig('plot-1.pdf', dpi=fig.dpi)"
   ]
  },
  {
   "cell_type": "markdown",
   "metadata": {},
   "source": [
    "## Problem 2:"
   ]
  },
  {
   "cell_type": "code",
   "execution_count": 80,
   "metadata": {},
   "outputs": [],
   "source": [
    "fibo = [1, 1]"
   ]
  },
  {
   "cell_type": "code",
   "execution_count": 81,
   "metadata": {},
   "outputs": [
    {
     "name": "stdout",
     "output_type": "stream",
     "text": [
      "[1, 1, 2]\n"
     ]
    }
   ],
   "source": [
    "def fiboNext(fibo):  \n",
    "    fibo.append( fibo[-1] + fibo[-2] )\n",
    "\n",
    "\n",
    "fiboNext(fibo)\n",
    "\n",
    "print(fibo)"
   ]
  },
  {
   "cell_type": "markdown",
   "metadata": {},
   "source": [
    " When I try to do part d. My computer hangs.## Problem 2:"
   ]
  },
  {
   "cell_type": "markdown",
   "metadata": {},
   "source": [
    "## Problem 3:"
   ]
  },
  {
   "cell_type": "code",
   "execution_count": 82,
   "metadata": {},
   "outputs": [
    {
     "name": "stdout",
     "output_type": "stream",
     "text": [
      "Element 1 : 0.1\n",
      "Element 2 : 0.13500000000000004\n",
      "Element 3 : 0.17516250000000005\n",
      "Element 4 : 0.216720897890625\n",
      "Element 5 : 0.2546294254621595\n",
      "Element 6 : 0.2846899217264551\n",
      "Element 7 : 0.3054623552907599\n",
      "Element 8 : 0.31823265718647226\n",
      "Element 9 : 0.3254409496297643\n",
      "Element 10 : 0.3292937069007622\n",
      "Element 11 : 0.3312890422444757\n",
      "Element 12 : 0.3323049190998206\n",
      "Element 13 : 0.33281753976282336\n",
      "Element 14 : 0.33307503748356726\n",
      "Element 15 : 0.3332040853333313\n",
      "Element 16 : 0.333268684275764\n",
      "Element 17 : 0.33330100253529776\n",
      "Element 18 : 0.33331716636639475\n",
      "Element 19 : 0.33332524945780784\n",
      "Element 20 : 0.333329291297547\n"
     ]
    }
   ],
   "source": [
    "\n",
    "x = 0.1\n",
    "r = 1.5\n",
    "\n",
    "def logisticNext(x, r):\n",
    "    return r*x*(1-x)\n",
    "\n",
    "\n",
    "for i in range(20):\n",
    "    print(\"Element\", i+1, \":\", x)\n",
    "    x = logisticNext(x, r) "
   ]
  },
  {
   "cell_type": "code",
   "execution_count": 84,
   "metadata": {},
   "outputs": [],
   "source": [
    "def logisticSequence(x, r, n):\n",
    "    newList = []\n",
    "    for i in range(n):\n",
    "        newList.append(x)\n",
    "        x = logisticNext(x, r)\n",
    "    return newList"
   ]
  },
  {
   "cell_type": "markdown",
   "metadata": {},
   "source": [
    "![Image](image.png)"
   ]
  },
  {
   "cell_type": "markdown",
   "metadata": {},
   "source": [
    "## Reference"
   ]
  },
  {
   "cell_type": "markdown",
   "metadata": {},
   "source": [
    "[https://en.wikipedia.org/wiki/Newton%27s_law_of_universal_gravitation](https://en.wikipedia.org/wiki/Newton%27s_law_of_universal_gravitation)"
   ]
  },
  {
   "cell_type": "markdown",
   "metadata": {},
   "source": [
    "[https://en.wikipedia.org/wiki/International_System_of_Units](https://en.wikipedia.org/wiki/International_System_of_Units)"
   ]
  }
 ],
 "metadata": {
  "kernelspec": {
   "display_name": "Python 3 (ipykernel)",
   "language": "python",
   "name": "python3"
  },
  "language_info": {
   "codemirror_mode": {
    "name": "ipython",
    "version": 3
   },
   "file_extension": ".py",
   "mimetype": "text/x-python",
   "name": "python",
   "nbconvert_exporter": "python",
   "pygments_lexer": "ipython3",
   "version": "3.9.5"
  }
 },
 "nbformat": 4,
 "nbformat_minor": 4
}
